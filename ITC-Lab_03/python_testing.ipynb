{
 "cells": [
  {
   "cell_type": "code",
   "id": "initial_id",
   "metadata": {
    "jupyter": {
     "is_executing": true
    }
   },
   "source": [
    "import itclab\n",
    "import time\n",
    "# Connect to Arduino\n",
    "a = itclab.iTCLab()\n",
    "print('LED On')\n",
    "a.LED(100)\n",
    "# Pause for 1 second\n",
    "time.sleep(1.0)\n",
    "print('LED Off')\n",
    "a.LED(0)\n",
    "a.close()"
   ],
   "outputs": [],
   "execution_count": null
  },
  {
   "metadata": {
    "ExecuteTime": {
     "end_time": "2024-12-20T09:18:32.856945Z",
     "start_time": "2024-12-20T09:18:24.287889Z"
    }
   },
   "cell_type": "code",
   "source": [
    "import itclab\n",
    "import time\n",
    "\n",
    "# Connect to Arduino\n",
    "a = itclab.iTCLab()\n",
    "\n",
    "# Get Version\n",
    "print(a.version)\n",
    "\n",
    "# Turn LED on\n",
    "print('LED On')\n",
    "a.LED(100)\n",
    "\n",
    "# Taper LED off\n",
    "for i in range(100,-1,-10):\n",
    "    print('LED Power ' + str(i))\n",
    "    time.sleep(0.5)\n",
    "    a.LED(i)\n",
    "\n",
    "a.close()"
   ],
   "id": "c17fa6244412ddcf",
   "outputs": [
    {
     "name": "stdout",
     "output_type": "stream",
     "text": [
      "Opening connection\n",
      "iTCLab connected via Arduino on port COM3\n",
      "<bound method iTCLab.version of <itclab.iTCLab object at 0x0000000009FEEE40>>\n",
      "LED On\n",
      "LED Power 100\n",
      "LED Power 90\n",
      "LED Power 80\n",
      "LED Power 70\n",
      "LED Power 60\n",
      "LED Power 50\n",
      "LED Power 40\n",
      "LED Power 30\n",
      "LED Power 20\n",
      "LED Power 10\n",
      "LED Power 0\n",
      "Arduino disconnected successfully\n"
     ]
    },
    {
     "data": {
      "text/plain": [
       "True"
      ]
     },
     "execution_count": 4,
     "metadata": {},
     "output_type": "execute_result"
    }
   ],
   "execution_count": 4
  },
  {
   "metadata": {},
   "cell_type": "code",
   "outputs": [],
   "execution_count": null,
   "source": "",
   "id": "418862ee655769d2"
  }
 ],
 "metadata": {
  "kernelspec": {
   "display_name": "Python [conda env:base] *",
   "language": "python",
   "name": "conda-base-py"
  },
  "language_info": {
   "codemirror_mode": {
    "name": "ipython",
    "version": 3
   },
   "file_extension": ".py",
   "mimetype": "text/x-python",
   "name": "python",
   "nbconvert_exporter": "python",
   "pygments_lexer": "ipython3",
   "version": "3.12.4"
  }
 },
 "nbformat": 4,
 "nbformat_minor": 5
}
